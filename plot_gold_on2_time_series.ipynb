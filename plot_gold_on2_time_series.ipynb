{
 "cells": [
  {
   "cell_type": "code",
   "execution_count": 1,
   "id": "4e68848d",
   "metadata": {},
   "outputs": [],
   "source": [
    "import matplotlib.pyplot as plt\n",
    "import numpy as np\n",
    "import datetime\n",
    "from dateutil import parser, relativedelta\n",
    "import math\n",
    "import scipy.signal as ss\n",
    "from apexpy import Apex\n",
    "import igrf\n",
    "from pysolar.solar import *\n",
    "import scipy.io as io\n",
    "from scipy import interpolate"
   ]
  },
  {
   "cell_type": "code",
   "execution_count": 2,
   "id": "dfefc496",
   "metadata": {},
   "outputs": [],
   "source": [
    "on2_mlt=np.load('on2_rebin_mlt.npy', allow_pickle=True)\n",
    "on2_mlon=np.load('on2_rebin_mlon.npy', allow_pickle=True)"
   ]
  },
  {
   "cell_type": "code",
   "execution_count": 3,
   "id": "75967c5c",
   "metadata": {},
   "outputs": [
    {
     "data": {
      "text/plain": [
       "(180, 120)"
      ]
     },
     "execution_count": 3,
     "metadata": {},
     "output_type": "execute_result"
    }
   ],
   "source": [
    "on2_mlt.shape"
   ]
  },
  {
   "cell_type": "code",
   "execution_count": 4,
   "id": "ef153765",
   "metadata": {},
   "outputs": [],
   "source": [
    "l=on2_mlt[90,60]"
   ]
  },
  {
   "cell_type": "code",
   "execution_count": 5,
   "id": "10253ca1",
   "metadata": {},
   "outputs": [],
   "source": [
    "x=[]\n",
    "y=[]\n",
    "for i in range(len(l)):\n",
    "    x.append(l[i][0])\n",
    "    y.append(l[i][1])"
   ]
  },
  {
   "cell_type": "code",
   "execution_count": 6,
   "id": "bc810b47",
   "metadata": {},
   "outputs": [
    {
     "data": {
      "text/plain": [
       "[<matplotlib.lines.Line2D at 0x7fba723b3ca0>]"
      ]
     },
     "execution_count": 6,
     "metadata": {},
     "output_type": "execute_result"
    },
    {
     "data": {
      "image/png": "[encoded data removed]",
      "text/plain": [
       "<Figure size 432x288 with 1 Axes>"
      ]
     },
     "metadata": {
      "needs_background": "light"
     },
     "output_type": "display_data"
    }
   ],
   "source": [
    "plt.plot(x,y)"
   ]
  },
  {
   "cell_type": "code",
   "execution_count": 7,
   "id": "fd7968bb",
   "metadata": {},
   "outputs": [
    {
     "name": "stdout",
     "output_type": "stream",
     "text": [
      "2018-10-05 11:40:31 2022-01-20 12:10:38\n"
     ]
    }
   ],
   "source": [
    "print(min(x),max(x))"
   ]
  },
  {
   "cell_type": "code",
   "execution_count": 14,
   "id": "9807f6bd",
   "metadata": {},
   "outputs": [],
   "source": [
    "base = datetime.datetime(2018,10,15)\n",
    "date_list = [base + relativedelta.relativedelta(days=7*x) for x in range(55)]"
   ]
  },
  {
   "cell_type": "code",
   "execution_count": 15,
   "id": "6f353673",
   "metadata": {},
   "outputs": [],
   "source": [
    "date_list=np.array(date_list)"
   ]
  },
  {
   "cell_type": "code",
   "execution_count": 16,
   "id": "9b316a4a",
   "metadata": {},
   "outputs": [
    {
     "data": {
      "text/plain": [
       "array([datetime.datetime(2018, 10, 15, 0, 0),\n",
       "       datetime.datetime(2018, 10, 22, 0, 0),\n",
       "       datetime.datetime(2018, 10, 29, 0, 0),\n",
       "       datetime.datetime(2018, 11, 5, 0, 0),\n",
       "       datetime.datetime(2018, 11, 12, 0, 0),\n",
       "       datetime.datetime(2018, 11, 19, 0, 0),\n",
       "       datetime.datetime(2018, 11, 26, 0, 0),\n",
       "       datetime.datetime(2018, 12, 3, 0, 0),\n",
       "       datetime.datetime(2018, 12, 10, 0, 0),\n",
       "       datetime.datetime(2018, 12, 17, 0, 0),\n",
       "       datetime.datetime(2018, 12, 24, 0, 0),\n",
       "       datetime.datetime(2018, 12, 31, 0, 0),\n",
       "       datetime.datetime(2019, 1, 7, 0, 0),\n",
       "       datetime.datetime(2019, 1, 14, 0, 0),\n",
       "       datetime.datetime(2019, 1, 21, 0, 0),\n",
       "       datetime.datetime(2019, 1, 28, 0, 0),\n",
       "       datetime.datetime(2019, 2, 4, 0, 0),\n",
       "       datetime.datetime(2019, 2, 11, 0, 0),\n",
       "       datetime.datetime(2019, 2, 18, 0, 0),\n",
       "       datetime.datetime(2019, 2, 25, 0, 0),\n",
       "       datetime.datetime(2019, 3, 4, 0, 0),\n",
       "       datetime.datetime(2019, 3, 11, 0, 0),\n",
       "       datetime.datetime(2019, 3, 18, 0, 0),\n",
       "       datetime.datetime(2019, 3, 25, 0, 0),\n",
       "       datetime.datetime(2019, 4, 1, 0, 0),\n",
       "       datetime.datetime(2019, 4, 8, 0, 0),\n",
       "       datetime.datetime(2019, 4, 15, 0, 0),\n",
       "       datetime.datetime(2019, 4, 22, 0, 0),\n",
       "       datetime.datetime(2019, 4, 29, 0, 0),\n",
       "       datetime.datetime(2019, 5, 6, 0, 0),\n",
       "       datetime.datetime(2019, 5, 13, 0, 0),\n",
       "       datetime.datetime(2019, 5, 20, 0, 0),\n",
       "       datetime.datetime(2019, 5, 27, 0, 0),\n",
       "       datetime.datetime(2019, 6, 3, 0, 0),\n",
       "       datetime.datetime(2019, 6, 10, 0, 0),\n",
       "       datetime.datetime(2019, 6, 17, 0, 0),\n",
       "       datetime.datetime(2019, 6, 24, 0, 0),\n",
       "       datetime.datetime(2019, 7, 1, 0, 0),\n",
       "       datetime.datetime(2019, 7, 8, 0, 0),\n",
       "       datetime.datetime(2019, 7, 15, 0, 0),\n",
       "       datetime.datetime(2019, 7, 22, 0, 0),\n",
       "       datetime.datetime(2019, 7, 29, 0, 0),\n",
       "       datetime.datetime(2019, 8, 5, 0, 0),\n",
       "       datetime.datetime(2019, 8, 12, 0, 0),\n",
       "       datetime.datetime(2019, 8, 19, 0, 0),\n",
       "       datetime.datetime(2019, 8, 26, 0, 0),\n",
       "       datetime.datetime(2019, 9, 2, 0, 0),\n",
       "       datetime.datetime(2019, 9, 9, 0, 0),\n",
       "       datetime.datetime(2019, 9, 16, 0, 0),\n",
       "       datetime.datetime(2019, 9, 23, 0, 0),\n",
       "       datetime.datetime(2019, 9, 30, 0, 0),\n",
       "       datetime.datetime(2019, 10, 7, 0, 0),\n",
       "       datetime.datetime(2019, 10, 14, 0, 0),\n",
       "       datetime.datetime(2019, 10, 21, 0, 0),\n",
       "       datetime.datetime(2019, 10, 28, 0, 0)], dtype=object)"
      ]
     },
     "execution_count": 16,
     "metadata": {},
     "output_type": "execute_result"
    }
   ],
   "source": [
    "date_list"
   ]
  },
  {
   "cell_type": "markdown",
   "id": "882a09b9",
   "metadata": {},
   "source": [
    "# Monthly-average Global O/N2 "
   ]
  },
  {
   "cell_type": "code",
   "execution_count": 17,
   "id": "be1345cf",
   "metadata": {},
   "outputs": [],
   "source": [
    "on2_mlt_month=np.empty((len(date_list), 60, 120),dtype=object)\n",
    "on2_mlt_month_dt=np.empty((len(date_list), 60, 120),dtype=object)\n",
    "\n",
    "for i in range(len(date_list)):\n",
    "    for j in range(60):\n",
    "        for k in range(120):\n",
    "            on2_mlt_month[i,j,k]=[]\n",
    "            on2_mlt_month_dt[i,j,k]=[]"
   ]
  },
  {
   "cell_type": "code",
   "execution_count": 18,
   "id": "75deb5d0",
   "metadata": {},
   "outputs": [],
   "source": [
    "for j in range(60):\n",
    "    for k in range(120):\n",
    "        for c in range(3):\n",
    "            l=on2_mlt[3*j+c,k]\n",
    "            for t in range(len(l)):\n",
    "                dtime=l[t][0]\n",
    "                if dtime>date_list[-1]: break\n",
    "                a=[abs((dtime-date_list)[i].days) for i in range(len(date_list))]\n",
    "                on2_mlt_month[np.argmin(a),j,k].append(l[t][1])\n",
    "                on2_mlt_month_dt[np.argmin(a),j,k].append(l[t][0])"
   ]
  },
  {
   "cell_type": "code",
   "execution_count": 19,
   "id": "15d06ef3",
   "metadata": {},
   "outputs": [],
   "source": [
    "on2_mlt_month_ave=np.empty((len(date_list), 60, 120))\n",
    "on2_mlt_month_std=np.empty((len(date_list), 60, 120))\n",
    "on2_mlt_month_cnt=np.empty((len(date_list), 60, 120))\n",
    "for i in range(len(date_list)):\n",
    "    for j in range(60):\n",
    "        for k in range(120):\n",
    "            if len(on2_mlt_month[i,j,k])==0:\n",
    "                on2_mlt_month_ave[i,j,k]=np.nan\n",
    "                on2_mlt_month_std[i,j,k]=np.nan\n",
    "                on2_mlt_month_cnt[i,j,k]=0\n",
    "            else:\n",
    "                on2_mlt_month_ave[i,j,k]=np.mean(on2_mlt_month[i,j,k])\n",
    "                on2_mlt_month_std[i,j,k]=np.std(on2_mlt_month[i,j,k])\n",
    "                on2_mlt_month_cnt[i,j,k]=len(on2_mlt_month[i,j,k])\n",
    "            if j>22 and j<37:\n",
    "                on2_mlt_month_ave[i,j,k]=np.nan\n",
    "                on2_mlt_month_std[i,j,k]=np.nan\n",
    "                on2_mlt_month_cnt[i,j,k]=0"
   ]
  },
  {
   "cell_type": "markdown",
   "id": "49490dd9",
   "metadata": {},
   "source": [
    "# Monthly-average Global Delta O/N2 "
   ]
  },
  {
   "cell_type": "code",
   "execution_count": 20,
   "id": "dfd9a880",
   "metadata": {},
   "outputs": [],
   "source": [
    "delta=np.zeros((len(date_list), 30, 120))\n",
    "\n",
    "for i in range(len(date_list)):\n",
    "    for j in range(30):\n",
    "        for k in range(120):\n",
    "            s=on2_mlt_month_ave[i,59-j,k]+on2_mlt_month_ave[i,j,k]\n",
    "            diff=on2_mlt_month_ave[i,59-j,k]-on2_mlt_month_ave[i,j,k]\n",
    "            delta[i,29-j,k]=2*diff/s"
   ]
  },
  {
   "cell_type": "code",
   "execution_count": 22,
   "id": "67486079",
   "metadata": {},
   "outputs": [
    {
     "data": {
      "text/plain": [
       "(-0.4, 0.4)"
      ]
     },
     "execution_count": 22,
     "metadata": {},
     "output_type": "execute_result"
    },
    {
     "data": {
      "image/png": "[encoded data removed]",
      "text/plain": [
       "<Figure size 576x360 with 1 Axes>"
      ]
     },
     "metadata": {
      "needs_background": "light"
     },
     "output_type": "display_data"
    }
   ],
   "source": [
    "g=[]\n",
    "plt.figure(figsize=(8,5))\n",
    "for i in range(len(date_list)):\n",
    "    g.append(np.nanmean(delta[i,:,:]))\n",
    "plt.plot(date_list, g, 'o-')\n",
    "plt.plot([date_list[0], date_list[-1]], [0,0], '--')\n",
    "plt.ylabel('$\\Delta O/N_2$')\n",
    "plt.ylim([-0.4, 0.4])"
   ]
  },
  {
   "cell_type": "code",
   "execution_count": 25,
   "id": "442d62fa",
   "metadata": {},
   "outputs": [],
   "source": [
    "import pickle\n",
    "with open(\"index_on2\", \"wb\") as fp:   \n",
    "    pickle.dump(g, fp)"
   ]
  },
  {
   "cell_type": "code",
   "execution_count": null,
   "id": "8f637ad7",
   "metadata": {},
   "outputs": [],
   "source": []
  }
 ],
 "metadata": {
  "kernelspec": {
   "display_name": "Python 3",
   "language": "python",
   "name": "python3"
  },
  "language_info": {
   "codemirror_mode": {
    "name": "ipython",
    "version": 3
   },
   "file_extension": ".py",
   "mimetype": "text/x-python",
   "name": "python",
   "nbconvert_exporter": "python",
   "pygments_lexer": "ipython3",
   "version": "3.8.8"
  }
 },
 "nbformat": 4,
 "nbformat_minor": 5
}
